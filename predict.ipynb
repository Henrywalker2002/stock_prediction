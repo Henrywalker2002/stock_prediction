{
 "cells": [
  {
   "cell_type": "code",
   "execution_count": 4,
   "metadata": {},
   "outputs": [
    {
     "data": {
      "text/html": [
       "<div>\n",
       "<style scoped>\n",
       "    .dataframe tbody tr th:only-of-type {\n",
       "        vertical-align: middle;\n",
       "    }\n",
       "\n",
       "    .dataframe tbody tr th {\n",
       "        vertical-align: top;\n",
       "    }\n",
       "\n",
       "    .dataframe thead th {\n",
       "        text-align: right;\n",
       "    }\n",
       "</style>\n",
       "<table border=\"1\" class=\"dataframe\">\n",
       "  <thead>\n",
       "    <tr style=\"text-align: right;\">\n",
       "      <th></th>\n",
       "      <th>time</th>\n",
       "      <th>open</th>\n",
       "      <th>high</th>\n",
       "      <th>low</th>\n",
       "      <th>close</th>\n",
       "      <th>volume</th>\n",
       "      <th>ticker</th>\n",
       "    </tr>\n",
       "  </thead>\n",
       "  <tbody>\n",
       "    <tr>\n",
       "      <th>0</th>\n",
       "      <td>2018-06-04</td>\n",
       "      <td>34133</td>\n",
       "      <td>34999</td>\n",
       "      <td>34133</td>\n",
       "      <td>34133</td>\n",
       "      <td>2811840</td>\n",
       "      <td>TCB</td>\n",
       "    </tr>\n",
       "    <tr>\n",
       "      <th>1</th>\n",
       "      <td>2018-06-05</td>\n",
       "      <td>33033</td>\n",
       "      <td>35333</td>\n",
       "      <td>31999</td>\n",
       "      <td>31999</td>\n",
       "      <td>1357500</td>\n",
       "      <td>TCB</td>\n",
       "    </tr>\n",
       "    <tr>\n",
       "      <th>2</th>\n",
       "      <td>2018-06-06</td>\n",
       "      <td>31666</td>\n",
       "      <td>31999</td>\n",
       "      <td>30333</td>\n",
       "      <td>30666</td>\n",
       "      <td>1605480</td>\n",
       "      <td>TCB</td>\n",
       "    </tr>\n",
       "    <tr>\n",
       "      <th>3</th>\n",
       "      <td>2018-06-07</td>\n",
       "      <td>31499</td>\n",
       "      <td>32799</td>\n",
       "      <td>31033</td>\n",
       "      <td>32799</td>\n",
       "      <td>1376540</td>\n",
       "      <td>TCB</td>\n",
       "    </tr>\n",
       "    <tr>\n",
       "      <th>4</th>\n",
       "      <td>2018-06-08</td>\n",
       "      <td>33666</td>\n",
       "      <td>35066</td>\n",
       "      <td>33166</td>\n",
       "      <td>35066</td>\n",
       "      <td>2008500</td>\n",
       "      <td>TCB</td>\n",
       "    </tr>\n",
       "  </tbody>\n",
       "</table>\n",
       "</div>"
      ],
      "text/plain": [
       "         time   open   high    low  close   volume ticker\n",
       "0  2018-06-04  34133  34999  34133  34133  2811840    TCB\n",
       "1  2018-06-05  33033  35333  31999  31999  1357500    TCB\n",
       "2  2018-06-06  31666  31999  30333  30666  1605480    TCB\n",
       "3  2018-06-07  31499  32799  31033  32799  1376540    TCB\n",
       "4  2018-06-08  33666  35066  33166  35066  2008500    TCB"
      ]
     },
     "execution_count": 4,
     "metadata": {},
     "output_type": "execute_result"
    }
   ],
   "source": [
    "from vnstock import stock_historical_data\n",
    "\n",
    "df = stock_historical_data('TCB', '2010-01-01', '2019-01-01')\n",
    "\n",
    "df.head()"
   ]
  }
 ],
 "metadata": {
  "kernelspec": {
   "display_name": "Python 3",
   "language": "python",
   "name": "python3"
  },
  "language_info": {
   "codemirror_mode": {
    "name": "ipython",
    "version": 3
   },
   "file_extension": ".py",
   "mimetype": "text/x-python",
   "name": "python",
   "nbconvert_exporter": "python",
   "pygments_lexer": "ipython3",
   "version": "3.11.7"
  }
 },
 "nbformat": 4,
 "nbformat_minor": 2
}
